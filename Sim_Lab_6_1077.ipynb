{
  "nbformat": 4,
  "nbformat_minor": 0,
  "metadata": {
    "colab": {
      "provenance": [],
      "authorship_tag": "ABX9TyMjdz+HpJ0LfSMPN15UMcKi",
      "include_colab_link": true
    },
    "kernelspec": {
      "name": "python3",
      "display_name": "Python 3"
    },
    "language_info": {
      "name": "python"
    }
  },
  "cells": [
    {
      "cell_type": "markdown",
      "metadata": {
        "id": "view-in-github",
        "colab_type": "text"
      },
      "source": [
        "<a href=\"https://colab.research.google.com/github/SkAmeen18/SIM_Lab/blob/main/Sim_Lab_6_1077.ipynb\" target=\"_parent\"><img src=\"https://colab.research.google.com/assets/colab-badge.svg\" alt=\"Open In Colab\"/></a>"
      ]
    },
    {
      "cell_type": "code",
      "execution_count": 1,
      "metadata": {
        "id": "R_73_-JeyWOg"
      },
      "outputs": [],
      "source": [
        "import numpy as np\n",
        "import scipy.stats as stats\n",
        "import matplotlib.pyplot as plt"
      ]
    },
    {
      "cell_type": "code",
      "source": [
        "data1 = np.array([18.4, 19.1, 17.9, 18.7, 18.3])\n",
        "data2 = np.array([20.2, 20.5, 20.1, 20.3, 20.4])"
      ],
      "metadata": {
        "id": "PASGW7vxzAZs"
      },
      "execution_count": 9,
      "outputs": []
    },
    {
      "cell_type": "code",
      "source": [
        "t_statistic, p_value = stats.ttest_ind(data1, data2, equal_var=True)"
      ],
      "metadata": {
        "id": "x3bV_biczPZ0"
      },
      "execution_count": 10,
      "outputs": []
    },
    {
      "cell_type": "code",
      "source": [
        "# mean difference\n",
        "mean_diff = np.mean(data1) - np.mean(data2)\n",
        "\n",
        "# sample sizes\n",
        "n1, n2 = len(data1), len(data2)\n",
        "\n",
        "# sample variances\n",
        "s1_sq, s2_sq = np.var(data1, ddof=1), np.var(data2, ddof=1)\n",
        "\n",
        "# pooled variance\n",
        "sp_sq = ((n1 - 1) * s1_sq + (n2 - 1) * s2_sq) / (n1 + n2 - 2)\n",
        "\n",
        "# standard error using pooled variance\n",
        "std_err = np.sqrt(sp_sq * (1/n1 + 1/n2))\n",
        "\n",
        "# degrees of freedom\n",
        "df = n1 + n2 - 2\n",
        "\n",
        "# 95% confidence interval\n",
        "ci = stats.t.interval(0.95, df, loc=mean_diff, scale=std_err)"
      ],
      "metadata": {
        "id": "ifXDlnTszWWs"
      },
      "execution_count": 11,
      "outputs": []
    },
    {
      "cell_type": "code",
      "source": [
        "# Task 1: State hypotheses and variance assumption\n",
        "print(\"Null Hypothesis (H0): μ1 = μ2\")\n",
        "print(\"Alternative Hypothesis (H1): μ1 ≠ μ2\")\n",
        "print(\"Variance assumption: Equal variances assumed (small samples, no evidence of heteroscedasticity)\")\n",
        "print()"
      ],
      "metadata": {
        "colab": {
          "base_uri": "https://localhost:8080/"
        },
        "id": "tWBf1TzAz74z",
        "outputId": "c125551f-8ae2-4ba4-e282-1128be7a6090"
      },
      "execution_count": 12,
      "outputs": [
        {
          "output_type": "stream",
          "name": "stdout",
          "text": [
            "Null Hypothesis (H0): μ1 = μ2\n",
            "Alternative Hypothesis (H1): μ1 ≠ μ2\n",
            "Variance assumption: Equal variances assumed (small samples, no evidence of heteroscedasticity)\n",
            "\n"
          ]
        }
      ]
    },
    {
      "cell_type": "code",
      "source": [
        "# task 2: Compute sample statistics\n",
        "mean1, mean2 = np.mean(data1), np.mean(data2)\n",
        "var1, var2 = np.var(data1, ddof=1), np.var(data2, ddof=1)\n",
        "mean_diff = mean1 - mean2\n",
        "\n",
        "print(\"=== Sample Statistics ===\")\n",
        "print(f\"Sample 1 Mean = {mean1:.2f}\")\n",
        "print(f\"Sample 2 Mean = {mean2:.2f}\")\n",
        "print(f\"Sample 1 Variance = {var1:.2f}\")\n",
        "print(f\"Sample 2 Variance = {var2:.2f}\")\n",
        "print(f\"Mean Difference = {mean_diff:.2f}\\n\")"
      ],
      "metadata": {
        "colab": {
          "base_uri": "https://localhost:8080/"
        },
        "id": "NcHbRMv811d0",
        "outputId": "e98085dd-e1fb-4715-fc6b-2df2bfa7f585"
      },
      "execution_count": 14,
      "outputs": [
        {
          "output_type": "stream",
          "name": "stdout",
          "text": [
            "=== Sample Statistics ===\n",
            "Sample 1 Mean = 18.48\n",
            "Sample 2 Mean = 20.30\n",
            "Sample 1 Variance = 0.20\n",
            "Sample 2 Variance = 0.02\n",
            "Mean Difference = -1.82\n",
            "\n"
          ]
        }
      ]
    },
    {
      "cell_type": "code",
      "source": [
        "# Task 3: Perform Welch's t-test (unequal variances)\n",
        "t_stat, p_value = stats.ttest_ind(data1, data2, equal_var=False)"
      ],
      "metadata": {
        "id": "CMGhr1dS2DZG"
      },
      "execution_count": 15,
      "outputs": []
    },
    {
      "cell_type": "code",
      "source": [
        "# Task 4: Degrees of freedom (Welch’s formula)\n",
        "n1, n2 = len(data1), len(data2)\n",
        "se1, se2 = var1/n1, var2/n2\n",
        "df = (se1 + se2)**2 / ((se1**2)/(n1-1) + (se2**2)/(n2-1))\n",
        "\n",
        "print(\"=== Hypothesis Test Results ===\")\n",
        "print(f\"t-Statistic = {t_stat:.2f}\")\n",
        "print(f\"Degrees of Freedom = {df:.2f}\")\n",
        "print(f\"p-Value = {p_value:.4f}\\n\")"
      ],
      "metadata": {
        "colab": {
          "base_uri": "https://localhost:8080/"
        },
        "id": "-_HmE-Km2Mmc",
        "outputId": "525087e8-9d05-430c-f63d-0a23b38ff7ee"
      },
      "execution_count": 17,
      "outputs": [
        {
          "output_type": "stream",
          "name": "stdout",
          "text": [
            "=== Hypothesis Test Results ===\n",
            "t-Statistic = -8.54\n",
            "Degrees of Freedom = 4.98\n",
            "p-Value = 0.0004\n",
            "\n"
          ]
        }
      ]
    },
    {
      "cell_type": "code",
      "source": [
        "# Task 5: Make statistical decision\n",
        "significance_level = 0.05\n",
        "if p_value < significance_level:\n",
        "    decision = \"Reject H0. There is significant evidence that the population means differ.\"\n",
        "else:\n",
        "    decision = \"Fail to reject H0. There is insufficient evidence that the population means differ.\"\n",
        "\n",
        "print(decision)\n",
        "\n",
        "# Create visualization\n",
        "fig, ax = plt.subplots(figsize=(7, 5))\n",
        "group_names = ['Group 1', 'Group 2']\n",
        "means = [mean1, mean2]\n",
        "std_devs = [np.std(data1, ddof=1), np.std(data2, ddof=1)]\n",
        "\n",
        "bars = ax.bar(group_names, means, color=['blue', 'black'], alpha=0.8)\n",
        "ax.errorbar(group_names, means, yerr=std_devs, fmt='none', color='black', capsize=8)\n",
        "ax.set_ylabel('Mean Values')\n",
        "ax.set_title('Comparison of Group Means')\n",
        "ax.grid(axis='y', alpha=0.3)\n",
        "plt.tight_layout()\n",
        "plt.show()"
      ],
      "metadata": {
        "colab": {
          "base_uri": "https://localhost:8080/",
          "height": 524
        },
        "id": "ndTimaUX2Yz0",
        "outputId": "30be28f2-9984-4b3c-fef6-2f0b54673447"
      },
      "execution_count": 21,
      "outputs": [
        {
          "output_type": "stream",
          "name": "stdout",
          "text": [
            "Reject H0. There is significant evidence that the population means differ.\n"
          ]
        },
        {
          "output_type": "display_data",
          "data": {
            "text/plain": [
              "<Figure size 700x500 with 1 Axes>"
            ],
            "image/png": "[encoded data removed]"
          },
          "metadata": {}
        }
      ]
    }
  ]
}