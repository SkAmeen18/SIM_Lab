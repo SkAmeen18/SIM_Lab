{
  "nbformat": 4,
  "nbformat_minor": 0,
  "metadata": {
    "colab": {
      "provenance": [],
      "authorship_tag": "ABX9TyNJ5dCNzR0DFoUN79cA5uzJ",
      "include_colab_link": true
    },
    "kernelspec": {
      "name": "python3",
      "display_name": "Python 3"
    },
    "language_info": {
      "name": "python"
    }
  },
  "cells": [
    {
      "cell_type": "markdown",
      "metadata": {
        "id": "view-in-github",
        "colab_type": "text"
      },
      "source": [
        "<a href=\"https://colab.research.google.com/github/SkAmeen18/SIM_Lab/blob/main/Lab_assignment1_1077.ipynb\" target=\"_parent\"><img src=\"https://colab.research.google.com/assets/colab-badge.svg\" alt=\"Open In Colab\"/></a>"
      ]
    },
    {
      "cell_type": "code",
      "execution_count": 3,
      "metadata": {
        "id": "YHPXBKaBr67Y"
      },
      "outputs": [],
      "source": [
        "import numpy as np\n",
        "from sympy import Matrix\n",
        "import matplotlib.pyplot as plt\n",
        "from scipy import stats"
      ]
    },
    {
      "cell_type": "code",
      "source": [
        "# 1. Generate Dataset\n",
        "\n",
        "np.random.seed(42)\n",
        "shift = 77 % 5\n",
        "data = 60 + np.random.randint(0, 15, size=12) + shift\n",
        "\n",
        "print(\"Sample Data (Exam Scores):\", data)"
      ],
      "metadata": {
        "colab": {
          "base_uri": "https://localhost:8080/"
        },
        "id": "-TUgJo08siBx",
        "outputId": "1ccda3ff-7b01-4295-cf58-eb5358ffdc97"
      },
      "execution_count": 5,
      "outputs": [
        {
          "output_type": "stream",
          "name": "stdout",
          "text": [
            "Sample Data (Exam Scores): [68 65 74 76 72 69 74 66 68 71 64 68]\n"
          ]
        }
      ]
    },
    {
      "cell_type": "code",
      "source": [
        "# 2. Perform One-Sample t-test\n",
        "\n",
        "hypothesized_mean = 65\n",
        "t_stat, p_value = stats.ttest_1samp(data, hypothesized_mean)\n",
        "\n",
        "sample_mean = np.mean(data)\n",
        "sample_std = np.std(data, ddof=1)\n",
        "n = len(data)\n",
        "df = n - 1\n",
        "\n",
        "print(\"\\n=== One-Sample t-Test Results ===\")\n",
        "print(f\"Sample Mean       = {sample_mean:.2f}\")\n",
        "print(f\"Hypothesized Mean = {hypothesized_mean}\")\n",
        "print(f\"t-statistic       = {t_stat:.4f}\")\n",
        "print(f\"Degrees of Freedom= {df}\")\n",
        "print(f\"p-value           = {p_value:.4f}\")"
      ],
      "metadata": {
        "colab": {
          "base_uri": "https://localhost:8080/"
        },
        "id": "K5YwLLdgtHZS",
        "outputId": "d4b10892-729b-4a34-97d3-0700ac7e83de"
      },
      "execution_count": 6,
      "outputs": [
        {
          "output_type": "stream",
          "name": "stdout",
          "text": [
            "\n",
            "=== One-Sample t-Test Results ===\n",
            "Sample Mean       = 69.58\n",
            "Hypothesized Mean = 65\n",
            "t-statistic       = 4.1511\n",
            "Degrees of Freedom= 11\n",
            "p-value           = 0.0016\n"
          ]
        }
      ]
    },
    {
      "cell_type": "code",
      "source": [
        "# 3. Compute 95% Confidence Interval\n",
        "\n",
        "confidence = 0.95\n",
        "alpha = 1 - confidence\n",
        "sem = stats.sem(data)\n",
        "\n",
        "ci = stats.t.interval(confidence, df=df, loc=sample_mean, scale=sem)\n",
        "print(f\"\\n95% Confidence Interval for Mean: {ci}\")"
      ],
      "metadata": {
        "colab": {
          "base_uri": "https://localhost:8080/"
        },
        "id": "zLEDXDy3tUl_",
        "outputId": "83aa29ba-2725-4fe6-a5f2-2d2d7f7f3f2b"
      },
      "execution_count": 7,
      "outputs": [
        {
          "output_type": "stream",
          "name": "stdout",
          "text": [
            "\n",
            "95% Confidence Interval for Mean: (np.float64(67.1531968659404), np.float64(72.01346980072626))\n"
          ]
        }
      ]
    },
    {
      "cell_type": "code",
      "source": [
        "# 4. Decision (α = 0.05)\n",
        "\n",
        "alpha = 0.05\n",
        "if p_value < alpha:\n",
        "    decision = \"Reject H0 (Sample mean is significantly different from 65)\"\n",
        "else:\n",
        "    decision = \"Fail to Reject H0 (No significant evidence that mean ≠ 65)\"\n",
        "\n",
        "print(\"\\nDecision:\", decision)"
      ],
      "metadata": {
        "colab": {
          "base_uri": "https://localhost:8080/"
        },
        "id": "1ygAFpjItXh2",
        "outputId": "7704ffca-9037-46a9-d8cd-fccb1ec4aead"
      },
      "execution_count": 8,
      "outputs": [
        {
          "output_type": "stream",
          "name": "stdout",
          "text": [
            "\n",
            "Decision: Reject H0 (Sample mean is significantly different from 65)\n"
          ]
        }
      ]
    },
    {
      "cell_type": "code",
      "source": [
        "# 5. Visualization\n",
        "\n",
        "plt.figure(figsize=(7,5))\n",
        "\n",
        "plt.errorbar(1, sample_mean, yerr=sem, fmt='o', color='blue',\n",
        "             ecolor='lightblue', elinewidth=3, capsize=5, label=\"Sample Mean ±1SE\")\n",
        "\n",
        "plt.axhline(y=hypothesized_mean, color='red', linestyle='--', label=\"Hypothesized Mean (65)\")\n",
        "\n",
        "plt.xlim(0, 2)\n",
        "plt.xticks([])\n",
        "plt.ylabel(\"Exam Score\")\n",
        "plt.title(\"One-Sample t-Test: Sample Mean vs Hypothesized Mean\")\n",
        "plt.legend()\n",
        "plt.show()"
      ],
      "metadata": {
        "colab": {
          "base_uri": "https://localhost:8080/",
          "height": 444
        },
        "id": "KFYWAmTUte2c",
        "outputId": "0331d780-f7dc-4520-ad00-8b257c37bc4c"
      },
      "execution_count": 9,
      "outputs": [
        {
          "output_type": "display_data",
          "data": {
            "text/plain": [
              "<Figure size 700x500 with 1 Axes>"
            ],
            "image/png": "[encoded data removed]"
          },
          "metadata": {}
        }
      ]
    }
  ]
}